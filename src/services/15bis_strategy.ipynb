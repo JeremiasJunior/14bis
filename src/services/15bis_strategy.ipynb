{
 "cells": [
  {
   "cell_type": "code",
   "execution_count": 1,
   "metadata": {},
   "outputs": [],
   "source": [
    "import pandas as pd\n",
    "import seaborn as sns\n",
    "\n",
    "import random\n",
    "\n",
    "from analisys.backtest import Backtest\n",
    "from skopt import forest_minimize"
   ]
  },
  {
   "cell_type": "code",
   "execution_count": 3,
   "metadata": {},
   "outputs": [],
   "source": [
    "class BacktestOptimizer:\n",
    "\n",
    "    def __init__(self) -> None:\n",
    "        \n",
    "        self.backtest_class = Backtest()\n",
    "\n",
    "\n",
    "    def __call__(self,\n",
    "                 symbol_x,\n",
    "                 symbol_y,\n",
    "                 df):\n",
    "        \n",
    "        space = [(1, 4),           #s_spread\n",
    "                (-4, -1),          #l_spread\n",
    "                (5, 20),           #period\n",
    "                (0.01, 0.05),     #tp\n",
    "                (-0.03, -0.01)]   #sl\n",
    "        \n",
    "        def simple_backtest(args):\n",
    "            \n",
    "            short_spread, long_spread, period, take_profit, stop_loss = args\n",
    "            run_backtest = self.backtest_class('BOVA11', 'DOL$', df, 'close', short_spread, \n",
    "                                                    long_spread, 10000, period, take_profit, stop_loss, 'roi')\n",
    "            \n",
    "            return -run_backtest\n",
    "\n",
    "        run_optimizer = forest_minimize(simple_backtest, space, random_state=1, verbose=1, n_calls = 20)\n",
    "\n",
    "        return run_optimizer\n"
   ]
  },
  {
   "cell_type": "code",
   "execution_count": 28,
   "metadata": {},
   "outputs": [],
   "source": [
    "import api.metatrader_api as mt5\n",
    "\n",
    "def get_days(start_date, end_date, d_train, d_test, timeframe = 'D1'):\n",
    "\n",
    "    #instanciate MetaTrader Server\n",
    "    mt5_server = mt5.MetaTrader_API(_login=58034070, _password='Ms$12345', _server='XPMT5-DEMO')\n",
    "\n",
    "    #download market data\n",
    "    symbols_list = ['BOVA11', 'DOL$']\n",
    "    hist_list = mt5_server.historical_data_cluster(symbols_list, start_date, end_date, timeframe)\n",
    "\n",
    "    #match the dates for bova and dol\n",
    "\n",
    "    hist_list['BOVA11']['date'] = hist_list['BOVA11'].index\n",
    "    hist_list['DOL$']['date'] = hist_list['DOL$'].index\n",
    "\n",
    "    hist_list['DOL$'] = hist_list['DOL$'][hist_list['DOL$']['date'].isin(hist_list['BOVA11']['date'])]\n",
    "    hist_list['BOVA11'] = hist_list['BOVA11'][hist_list['BOVA11']['date'].isin(hist_list['DOL$']['date'])]\n",
    "\n",
    "    ibov_date = [str(i) for i in list(hist_list['BOVA11']['date'])]\n",
    "\n",
    "    date_iteration = []\n",
    "    \n",
    "    for d in range(len(ibov_date))[:-(d_train+d_test)]:\n",
    "\n",
    "        train_startdate = ibov_date[d].split(' ')[0]\n",
    "        train_enddate = ibov_date[d+d_train].split(' ')[0]\n",
    "        test_startdate = ibov_date[d+d_train].split(' ')[0]\n",
    "        test_enddate = ibov_date[d+d_test+d_train].split(' ')[0]\n",
    "            \n",
    "        date_iteration.append(tuple([train_startdate, train_enddate,\n",
    "                                    test_startdate, test_enddate]))\n",
    "        \n",
    "        real_startdate = date_iteration[0][2]\n",
    "        real_enddate = date_iteration[-1][-1]\n",
    "\n",
    "        return date_iteration\n",
    "\n",
    "\n"
   ]
  },
  {
   "cell_type": "markdown",
   "metadata": {},
   "source": [
    "A ideia é que vai pegar os dados de date_iteration[0] até date_iteration[1], performar a otimização, e então negociar entre date_iteration[2] e date_iteration[3]\n"
   ]
  },
  {
   "cell_type": "code",
   "execution_count": 29,
   "metadata": {},
   "outputs": [
    {
     "data": {
      "text/plain": [
       "[('2023-01-02', '2023-01-09', '2023-01-09', '2023-01-10')]"
      ]
     },
     "execution_count": 29,
     "metadata": {},
     "output_type": "execute_result"
    }
   ],
   "source": [
    "get_days('2023-01-01', '2023-02-01', 5,1)"
   ]
  }
 ],
 "metadata": {
  "kernelspec": {
   "display_name": "base",
   "language": "python",
   "name": "python3"
  },
  "language_info": {
   "codemirror_mode": {
    "name": "ipython",
    "version": 3
   },
   "file_extension": ".py",
   "mimetype": "text/x-python",
   "name": "python",
   "nbconvert_exporter": "python",
   "pygments_lexer": "ipython3",
   "version": "3.9.12"
  },
  "orig_nbformat": 4
 },
 "nbformat": 4,
 "nbformat_minor": 2
}
