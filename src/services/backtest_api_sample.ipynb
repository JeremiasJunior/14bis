{
 "cells": [
  {
   "cell_type": "code",
   "execution_count": 1,
   "metadata": {},
   "outputs": [],
   "source": [
    "#imports\n",
    "import api.metatrader_api as mt5_api\n",
    "\n",
    "\n",
    "#setting up server \n",
    "mt5_server = mt5_api.MetaTrader_API(_login=58034070, _password='', _server='XPMT5-DEMO')\n",
    "\n"
   ]
  },
  {
   "cell_type": "code",
   "execution_count": 2,
   "metadata": {},
   "outputs": [],
   "source": [
    "#symbols list\n",
    "symbols = ['MGLU3', 'AZUL4', 'IBOV']\n",
    "\n",
    "#historical data download\n",
    "historical_data = mt5_server.historical_data_cluster(symbols, '2023-01-01', '2023-02-01', 'M10')"
   ]
  },
  {
   "cell_type": "code",
   "execution_count": 3,
   "metadata": {},
   "outputs": [
    {
     "data": {
      "text/html": [
       "<div>\n",
       "<style scoped>\n",
       "    .dataframe tbody tr th:only-of-type {\n",
       "        vertical-align: middle;\n",
       "    }\n",
       "\n",
       "    .dataframe tbody tr th {\n",
       "        vertical-align: top;\n",
       "    }\n",
       "\n",
       "    .dataframe thead th {\n",
       "        text-align: right;\n",
       "    }\n",
       "</style>\n",
       "<table border=\"1\" class=\"dataframe\">\n",
       "  <thead>\n",
       "    <tr style=\"text-align: right;\">\n",
       "      <th></th>\n",
       "      <th>time</th>\n",
       "      <th>open</th>\n",
       "      <th>high</th>\n",
       "      <th>low</th>\n",
       "      <th>close</th>\n",
       "      <th>tick_volume</th>\n",
       "      <th>spread</th>\n",
       "      <th>real_volume</th>\n",
       "    </tr>\n",
       "    <tr>\n",
       "      <th>date</th>\n",
       "      <th></th>\n",
       "      <th></th>\n",
       "      <th></th>\n",
       "      <th></th>\n",
       "      <th></th>\n",
       "      <th></th>\n",
       "      <th></th>\n",
       "      <th></th>\n",
       "    </tr>\n",
       "  </thead>\n",
       "  <tbody>\n",
       "    <tr>\n",
       "      <th>2023-01-02 19:00:00</th>\n",
       "      <td>1672653600</td>\n",
       "      <td>109734.0</td>\n",
       "      <td>109734.0</td>\n",
       "      <td>109306.0</td>\n",
       "      <td>109335.0</td>\n",
       "      <td>33898</td>\n",
       "      <td>0</td>\n",
       "      <td>21670601</td>\n",
       "    </tr>\n",
       "    <tr>\n",
       "      <th>2023-01-02 19:10:00</th>\n",
       "      <td>1672654200</td>\n",
       "      <td>109317.0</td>\n",
       "      <td>109317.0</td>\n",
       "      <td>107624.0</td>\n",
       "      <td>107889.0</td>\n",
       "      <td>106816</td>\n",
       "      <td>0</td>\n",
       "      <td>134924900</td>\n",
       "    </tr>\n",
       "    <tr>\n",
       "      <th>2023-01-02 19:20:00</th>\n",
       "      <td>1672654800</td>\n",
       "      <td>107831.0</td>\n",
       "      <td>107831.0</td>\n",
       "      <td>107056.0</td>\n",
       "      <td>107238.0</td>\n",
       "      <td>104168</td>\n",
       "      <td>0</td>\n",
       "      <td>101142200</td>\n",
       "    </tr>\n",
       "    <tr>\n",
       "      <th>2023-01-02 19:30:00</th>\n",
       "      <td>1672655400</td>\n",
       "      <td>107276.0</td>\n",
       "      <td>107344.0</td>\n",
       "      <td>107105.0</td>\n",
       "      <td>107156.0</td>\n",
       "      <td>85238</td>\n",
       "      <td>0</td>\n",
       "      <td>55366000</td>\n",
       "    </tr>\n",
       "    <tr>\n",
       "      <th>2023-01-02 19:40:00</th>\n",
       "      <td>1672656000</td>\n",
       "      <td>107147.0</td>\n",
       "      <td>107147.0</td>\n",
       "      <td>106400.0</td>\n",
       "      <td>106485.0</td>\n",
       "      <td>155263</td>\n",
       "      <td>0</td>\n",
       "      <td>118163500</td>\n",
       "    </tr>\n",
       "  </tbody>\n",
       "</table>\n",
       "</div>"
      ],
      "text/plain": [
       "                           time      open      high       low     close  \\\n",
       "date                                                                      \n",
       "2023-01-02 19:00:00  1672653600  109734.0  109734.0  109306.0  109335.0   \n",
       "2023-01-02 19:10:00  1672654200  109317.0  109317.0  107624.0  107889.0   \n",
       "2023-01-02 19:20:00  1672654800  107831.0  107831.0  107056.0  107238.0   \n",
       "2023-01-02 19:30:00  1672655400  107276.0  107344.0  107105.0  107156.0   \n",
       "2023-01-02 19:40:00  1672656000  107147.0  107147.0  106400.0  106485.0   \n",
       "\n",
       "                     tick_volume  spread  real_volume  \n",
       "date                                                   \n",
       "2023-01-02 19:00:00        33898       0     21670601  \n",
       "2023-01-02 19:10:00       106816       0    134924900  \n",
       "2023-01-02 19:20:00       104168       0    101142200  \n",
       "2023-01-02 19:30:00        85238       0     55366000  \n",
       "2023-01-02 19:40:00       155263       0    118163500  "
      ]
     },
     "execution_count": 3,
     "metadata": {},
     "output_type": "execute_result"
    }
   ],
   "source": [
    "historical_data[ 'IBOV'].head()"
   ]
  },
  {
   "cell_type": "code",
   "execution_count": 4,
   "metadata": {},
   "outputs": [
    {
     "data": {
      "text/plain": [
       "106343.0"
      ]
     },
     "execution_count": 4,
     "metadata": {},
     "output_type": "execute_result"
    }
   ],
   "source": [
    "IBOV = historical_data['IBOV']\n",
    "IBOV['close'][10]"
   ]
  },
  {
   "cell_type": "code",
   "execution_count": 6,
   "metadata": {},
   "outputs": [],
   "source": [
    "#backtest\n",
    "\n",
    "from api.backtest_api import Backtest_API\n",
    "\n",
    "bkt = Backtest_API(historical_data)\n",
    "\n"
   ]
  },
  {
   "cell_type": "code",
   "execution_count": 7,
   "metadata": {},
   "outputs": [
    {
     "data": {
      "text/plain": [
       "[106343.0, 'b7a6e1172035', 1]"
      ]
     },
     "execution_count": 7,
     "metadata": {},
     "output_type": "execute_result"
    }
   ],
   "source": [
    "bkt.open_buy('IBOV', 1, 10) "
   ]
  },
  {
   "cell_type": "code",
   "execution_count": 8,
   "metadata": {},
   "outputs": [
    {
     "data": {
      "text/plain": [
       "{'b7a6e1172035': {'number': 'b7a6e1172035',\n",
       "  'symbol': 'IBOV',\n",
       "  'price': 106343.0,\n",
       "  'type': 'buy',\n",
       "  'volume': 1,\n",
       "  'index': 10,\n",
       "  'status': 'open'}}"
      ]
     },
     "execution_count": 8,
     "metadata": {},
     "output_type": "execute_result"
    }
   ],
   "source": [
    "bkt.orders"
   ]
  },
  {
   "cell_type": "code",
   "execution_count": 9,
   "metadata": {},
   "outputs": [
    {
     "data": {
      "text/plain": [
       "[106379.0, 106379.0]"
      ]
     },
     "execution_count": 9,
     "metadata": {},
     "output_type": "execute_result"
    }
   ],
   "source": [
    "filled_price = Backtest_API.current_price(historical_data['IBOV'], 15)\n",
    "filled_price"
   ]
  },
  {
   "cell_type": "code",
   "execution_count": 11,
   "metadata": {},
   "outputs": [
    {
     "name": "stdout",
     "output_type": "stream",
     "text": [
      "buy 106343.0 1 IBOV b7a6e1172035 106347.0\n"
     ]
    },
    {
     "data": {
      "text/plain": [
       "[106343.0, 106347.0, 1, 4.0, 'b7a6e1172035']"
      ]
     },
     "execution_count": 11,
     "metadata": {},
     "output_type": "execute_result"
    }
   ],
   "source": [
    "bkt.close_position('b7a6e1172035', 11)"
   ]
  },
  {
   "cell_type": "code",
   "execution_count": 12,
   "metadata": {},
   "outputs": [
    {
     "data": {
      "text/plain": [
       "{'b7a6e1172035': {'number': 'b7a6e1172035',\n",
       "  'symbol': 'IBOV',\n",
       "  'price': 106343.0,\n",
       "  'type': 'buy',\n",
       "  'volume': 1,\n",
       "  'index': 10,\n",
       "  'status': 'close',\n",
       "  'profit': 4.0,\n",
       "  'close_profit': 106347.0,\n",
       "  'close_index': 11}}"
      ]
     },
     "execution_count": 12,
     "metadata": {},
     "output_type": "execute_result"
    }
   ],
   "source": [
    "bkt.orders"
   ]
  }
 ],
 "metadata": {
  "kernelspec": {
   "display_name": "base",
   "language": "python",
   "name": "python3"
  },
  "language_info": {
   "codemirror_mode": {
    "name": "ipython",
    "version": 3
   },
   "file_extension": ".py",
   "mimetype": "text/x-python",
   "name": "python",
   "nbconvert_exporter": "python",
   "pygments_lexer": "ipython3",
   "version": "3.9.12"
  },
  "orig_nbformat": 4,
  "vscode": {
   "interpreter": {
    "hash": "46f14437f6212115cecb54cdec1fe4c7217130b15a45a6df5ff75e7a4b6010aa"
   }
  }
 },
 "nbformat": 4,
 "nbformat_minor": 2
}
